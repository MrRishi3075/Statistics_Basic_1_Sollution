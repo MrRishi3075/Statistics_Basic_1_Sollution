{
 "cells": [
  {
   "cell_type": "markdown",
   "id": "ed014e38-6d0d-4548-8d3d-863cbeaaa5a7",
   "metadata": {},
   "source": [
    "### Q1. What is Statistics?"
   ]
  },
  {
   "cell_type": "markdown",
   "id": "43bc3a70-63c7-4d0e-bcb9-ebe6966cc24a",
   "metadata": {},
   "source": [
    "## Statistics:"
   ]
  },
  {
   "cell_type": "markdown",
   "id": "5296fdf1-f6e3-4cf3-aab6-f81702d2452f",
   "metadata": {},
   "source": [
    "Statistics is a branch of mathematics that involves the collection, analysis, interpretation, presentation, and organization of data. It provides methods for making inferences about the characteristics of a population based on a subset of the population (a sample)."
   ]
  },
  {
   "cell_type": "markdown",
   "id": "768b0c63-5c57-4bd5-a6cb-8e44bb78a965",
   "metadata": {},
   "source": [
    "### Q2. Define the different types of statistics and give an example of when each type might be used."
   ]
  },
  {
   "cell_type": "markdown",
   "id": "d9fe5fdb-7526-4f90-aa65-cde261ab7b07",
   "metadata": {},
   "source": [
    "#### Types of Statistics:\n",
    "\n",
    "* 1. Descriptive Statistics: Describes and summarizes data through measures like mean, median, and standard deviation. Example: Calculating the average height of students in a class.\n",
    "\n",
    "* 2. Inferential Statistics: Involves making predictions or inferences about a population based on a sample of data. Example: Using a sample survey to estimate the average income of a population."
   ]
  },
  {
   "cell_type": "code",
   "execution_count": null,
   "id": "c3844b24-264a-480b-ad7b-ff986f1747fb",
   "metadata": {},
   "outputs": [],
   "source": []
  },
  {
   "cell_type": "markdown",
   "id": "0076c85b-6d7e-49b6-a500-6b6986fba018",
   "metadata": {},
   "source": [
    "### Q3.  What are the different types of data and how do they differ from each other? Provide an example of each type of data."
   ]
  },
  {
   "cell_type": "markdown",
   "id": "1f951f97-9760-48cf-825c-be1d9149e7ac",
   "metadata": {},
   "source": [
    "### Types of Data:\n",
    "\n",
    "1. Qualitative (Categorical) Data:\n",
    "\n",
    "* Consists of categories or labels.\n",
    "* Example: Colors (red, blue, green).\n",
    "\n",
    "2. Quantitative (Numerical) Data:\n",
    "\n",
    "* Consists of numerical values.\n",
    "* Example: Heights of students (e.g., 160 cm, 175 cm).\n",
    "\n",
    "#### Differences:\n",
    "\n",
    "* Qualitative data is non-numeric, while quantitative data is numeric."
   ]
  },
  {
   "cell_type": "code",
   "execution_count": null,
   "id": "58d95fc6-8223-4d20-84a3-34b72f834f30",
   "metadata": {},
   "outputs": [],
   "source": []
  },
  {
   "cell_type": "markdown",
   "id": "6bb4677f-8f2f-4869-bb64-7c4422126d0e",
   "metadata": {},
   "source": [
    "### Q4. Categorise the following datasets with respect to quantitative and qualitative data types:\n",
    "\n",
    "* (i)\tGrading in exam: A+, A, B+, B, C+, C, D, E\n",
    "\n",
    "* (ii)\tColour of mangoes: yellow, green, orange, red\n",
    "\n",
    "* (iii)\tHeight data of a class: [178.9, 179, 179.5, 176, 177.2, 178.3, 175.8,...]\n",
    "\n",
    "* (iv)\tNumber of mangoes exported by a farm: [500, 600, 478, 672, …]"
   ]
  },
  {
   "cell_type": "markdown",
   "id": "d818d8e0-4bd7-4a02-a406-20084afbce09",
   "metadata": {},
   "source": [
    "(i) Grading in exam: A+, A, B+, B, C+, C, D, E\n",
    "\n",
    "* Qualitative (Categorical) Data\n",
    "\n",
    "(ii) Colour of mangoes: yellow, green, orange, red\n",
    "\n",
    "* Qualitative (Categorical) Data\n",
    "\n",
    "(iii) Height data of a class: [178.9, 179, 179.5, 176, 177.2, 178.3, 175.8,...]\n",
    "\n",
    "* Quantitative (Numerical) Data\n",
    "\n",
    "(iv) Number of mangoes exported by a farm: [500, 600, 478, 672, …]\n",
    "\n",
    "* Quantitative (Numerical) Data"
   ]
  },
  {
   "cell_type": "code",
   "execution_count": null,
   "id": "c8d4eb99-c66d-4a7d-9ac3-1953bb47dbc4",
   "metadata": {},
   "outputs": [],
   "source": []
  },
  {
   "cell_type": "markdown",
   "id": "2956da1c-d2ca-4330-9caa-0dd8dcd0c3fc",
   "metadata": {},
   "source": [
    "### Q5. Explain the concept of levels of measurement and give an example of a variable for each level."
   ]
  },
  {
   "cell_type": "markdown",
   "id": "172f5791-2ecd-4026-b3a2-823a00fb3f54",
   "metadata": {},
   "source": [
    "#### Levels of Measurement:\n",
    "\n",
    "1. Nominal Level:\n",
    "\n",
    "##### Categories with no inherent order.\n",
    "Example: Colors (red, blue, green).\n",
    "\n",
    "2. Ordinal Level:\n",
    "\n",
    "##### Categories with a meaningful order but no consistent intervals.\n",
    "Example: Educational levels (high school, bachelor's, master's).\n",
    "\n",
    "3. Interval Level:\n",
    "\n",
    "##### Ordered categories with consistent intervals, but no true zero point.\n",
    "Example: Temperatures in Celsius or Fahrenheit.\n",
    "\n",
    "3. Ratio Level:\n",
    "\n",
    "##### Similar to interval, but with a true zero point, indicating absence of the variable.\n",
    "Example: Heights, weights, counts."
   ]
  },
  {
   "cell_type": "code",
   "execution_count": null,
   "id": "3e49dc8e-12cc-4dff-ac8b-c3b1bc1199ba",
   "metadata": {},
   "outputs": [],
   "source": []
  },
  {
   "cell_type": "markdown",
   "id": "bd3ac5c7-af4e-4cad-83e3-6abdd0f42862",
   "metadata": {},
   "source": [
    "### Q6. Why is it important to understand the level of measurement when analyzing data? Provide an example to illustrate your answer."
   ]
  },
  {
   "cell_type": "markdown",
   "id": "7a4954c2-1b64-4d42-b6bf-f93a28ddb389",
   "metadata": {},
   "source": [
    "#### Importance of Understanding Level of Measurement\n",
    "\n",
    "Understanding the level of measurement is crucial because it determines the types of statistical analyses that can be appropriately applied to the data. Different statistical methods are suitable for different levels of measurement.\n",
    "\n",
    "#### Example:\n",
    "\n",
    "For ratio-level data, arithmetic operations like multiplication and division are meaningful. If you have data on income, you can correctly say that one person's income is twice another person's income. However, such operations are not meaningful for ordinal data, where only the order matters, not the magnitude of differences."
   ]
  },
  {
   "cell_type": "code",
   "execution_count": null,
   "id": "6bceba80-8c18-4f67-832b-9ab69a9d5e52",
   "metadata": {},
   "outputs": [],
   "source": []
  },
  {
   "cell_type": "markdown",
   "id": "16bc02ee-7157-445d-b278-606559321592",
   "metadata": {},
   "source": [
    "### Q7. How nominal data type is different from ordinal data type."
   ]
  },
  {
   "cell_type": "markdown",
   "id": "7cb5cc29-dbc4-48c8-a295-af79b62992cf",
   "metadata": {},
   "source": [
    "1. Nominal Data:\n",
    "\n",
    "* Consists of categories or labels with no inherent order.\n",
    "Example: Colors, gender.\n",
    "\n",
    "2. Ordinal Data:\n",
    "\n",
    "* Categories have a meaningful order, but the intervals between values are not consistent.\n",
    "Example: Educational levels (high school, bachelor's, master's).\n",
    "\n",
    "#### Difference:\n",
    "Nominal data only provides labels, while ordinal data implies a meaningful order."
   ]
  },
  {
   "cell_type": "code",
   "execution_count": null,
   "id": "96783a1d-cf4d-453a-bf56-0f8f21a86a37",
   "metadata": {},
   "outputs": [],
   "source": []
  },
  {
   "cell_type": "markdown",
   "id": "2df38b55-5ea3-4e6d-8142-04aa68e9a801",
   "metadata": {},
   "source": [
    "### Q8. Which type of plot can be used to display data in terms of range?"
   ]
  },
  {
   "cell_type": "markdown",
   "id": "f41c4231-ece3-4ba5-8b61-2253721ce22e",
   "metadata": {},
   "source": [
    "### Ans:-  \n",
    "### Range Display:\n",
    "#### A Box Plot (Box-and-Whisker Plot) is often used to display the range of data. It shows the minimum, first quartile, median, third quartile, and maximum of a dataset, providing a visual representation of the spread or dispersion."
   ]
  },
  {
   "cell_type": "code",
   "execution_count": null,
   "id": "a648b02f-2c00-471f-b4fa-07eb875ba73b",
   "metadata": {},
   "outputs": [],
   "source": []
  },
  {
   "cell_type": "markdown",
   "id": "bd57b82a-db39-4c7f-9aa2-940fbe216160",
   "metadata": {},
   "source": [
    "### Q9. Describe the difference between descriptive and inferential statistics. Give an example of each type of statistics and explain how they are used."
   ]
  },
  {
   "cell_type": "markdown",
   "id": "f4b72f80-8760-410f-8a73-dbc17ae20800",
   "metadata": {},
   "source": [
    "#### Descriptive Statistics:\n",
    "\n",
    "* Describes and summarizes data using measures like mean, median, and standard deviation.\n",
    "* Example: Calculating the average income of a sample.\n",
    "\n",
    "#### Inferential Statistics:\n",
    "\n",
    "* Makes predictions or inferences about a population based on a sample of data.\n",
    "* Example: Using a sample survey to estimate the average income of a population.\n",
    "\n",
    "#### Difference:\n",
    "\n",
    "* Descriptive statistics summarize and describe the main features of a dataset, while inferential statistics make predictions about a population based on a sample."
   ]
  },
  {
   "cell_type": "code",
   "execution_count": null,
   "id": "b30f87a9-f4bd-4c48-83b2-14ecc450c725",
   "metadata": {},
   "outputs": [],
   "source": []
  },
  {
   "cell_type": "markdown",
   "id": "d07fe376-8589-425f-b4fe-af3627df958b",
   "metadata": {},
   "source": [
    "### Q10. What are some common measures of central tendency and variability used in statistics? Explain how each measure can be used to describe a dataset."
   ]
  },
  {
   "cell_type": "markdown",
   "id": "091f1fd0-1eff-45cc-b944-8fbb398e84f7",
   "metadata": {},
   "source": [
    "#### Measures of Central Tendency:\n",
    "\n",
    "1. Mean:\n",
    "\n",
    "* Average of all data points.\n",
    "* Sensitive to extreme values.\n",
    "\n",
    "2. Median:\n",
    "\n",
    "* Middle value when data is sorted.\n",
    "* Less sensitive to extreme values.\n",
    "\n",
    "3. Mode:\n",
    "\n",
    "* Most frequently occurring value.\n",
    "* Applicable to categorical and numerical data.\n",
    "\n",
    "#### Measures of Variability:\n",
    "\n",
    "1. Range:\n",
    "\n",
    "* Difference between the maximum and minimum values.\n",
    "\n",
    "2. Variance:\n",
    "\n",
    "* Average of the squared differences from the mean.\n",
    "* Provides a measure of data dispersion.\n",
    "\n",
    "3. Standard Deviation:\n",
    "\n",
    "* Square root of the variance.\n",
    "* Indicates the average amount of deviation from the mean.\n",
    "##### These measures provide insights into the center and spread of a dataset."
   ]
  },
  {
   "cell_type": "code",
   "execution_count": null,
   "id": "6b2bd48b-77cd-4b1c-ae83-7434b8ff3725",
   "metadata": {},
   "outputs": [],
   "source": []
  }
 ],
 "metadata": {
  "kernelspec": {
   "display_name": "Python 3 (ipykernel)",
   "language": "python",
   "name": "python3"
  },
  "language_info": {
   "codemirror_mode": {
    "name": "ipython",
    "version": 3
   },
   "file_extension": ".py",
   "mimetype": "text/x-python",
   "name": "python",
   "nbconvert_exporter": "python",
   "pygments_lexer": "ipython3",
   "version": "3.10.8"
  }
 },
 "nbformat": 4,
 "nbformat_minor": 5
}
